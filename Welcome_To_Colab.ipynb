{
  "cells": [
    {
      "cell_type": "code",
      "source": [
        "from google.colab import drive\n",
        "drive.mount('/content/drive')\n",
        "\n",
        "import pandas as pd\n",
        "df = pd.read_csv('/content/drive/MyDrive/healthcare/students_train.csv')\n",
        "print(df.head())"
      ],
      "metadata": {
        "colab": {
          "base_uri": "https://localhost:8080/"
        },
        "id": "NxIxYJZZD3Ro",
        "outputId": "270f0a29-868b-43ac-b182-1529aba610a9"
      },
      "execution_count": 2,
      "outputs": [
        {
          "output_type": "stream",
          "name": "stdout",
          "text": [
            "Drive already mounted at /content/drive; to attempt to forcibly remount, call drive.mount(\"/content/drive\", force_remount=True).\n",
            "    ID           Name   Age  Gender Blood Type Medical Condition  \\\n",
            "0  1.0  Bobby JacksOn  30.0    Male         B-            Cancer   \n",
            "1  2.0   LesLie TErRy  62.0    Male         A+           Obesity   \n",
            "2  3.0    DaNnY sMitH  76.0  Female         A-           Obesity   \n",
            "3  4.0   andrEw waTtS  28.0  Female         O+          Diabetes   \n",
            "4  5.0  adrIENNE bEll  43.0  Female        AB+            Cancer   \n",
            "\n",
            "  Date of Admission            Doctor                    Hospital  \\\n",
            "0         1/31/2024     Matthew Smith             Sons and Miller   \n",
            "1         8/20/2019   Samantha Davies                     Kim Inc   \n",
            "2         9/22/2022  Tiffany Mitchell                    Cook PLC   \n",
            "3        11/18/2020       Kevin Wells  Hernandez Rogers and Vang,   \n",
            "4         9/19/2022    Kathleen Hanna                 White-White   \n",
            "\n",
            "  Insurance Provider  Billing Amount  Room Number Admission Type  \\\n",
            "0         Blue Cross     18856.28131        328.0         Urgent   \n",
            "1           Medicare     33643.32729        265.0      Emergency   \n",
            "2              Aetna     27955.09608        205.0      Emergency   \n",
            "3           Medicare     37909.78241        450.0       Elective   \n",
            "4              Aetna     14238.31781        458.0         Urgent   \n",
            "\n",
            "  Discharge Date   Medication  Test Results  \n",
            "0       2/2/2024  Paracetamol        Normal  \n",
            "1      8/26/2019    Ibuprofen  Inconclusive  \n",
            "2      10/7/2022      Aspirin        Normal  \n",
            "3     12/18/2020    Ibuprofen      Abnormal  \n",
            "4      10/9/2022   Penicillin      Abnormal  \n"
          ]
        }
      ]
    }
  ],
  "metadata": {
    "colab": {
      "name": "Welcome To Colab",
      "toc_visible": true,
      "provenance": []
    },
    "kernelspec": {
      "display_name": "Python 3",
      "name": "python3"
    }
  },
  "nbformat": 4,
  "nbformat_minor": 0
}